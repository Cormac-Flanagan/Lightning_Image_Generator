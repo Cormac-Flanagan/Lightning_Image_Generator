{
 "cells": [
  {
   "cell_type": "code",
   "execution_count": null,
   "metadata": {
    "collapsed": true
   },
   "outputs": [],
   "source": [
    "import sys\n",
    "import numpy as np\n",
    "from PIL import Image\n",
    "from random import randint, random, uniform\n",
    "import math\n",
    "from tqdm import tqdm\n",
    "import multiprocessing"
   ]
  },
  {
   "cell_type": "code",
   "execution_count": null,
   "outputs": [],
   "source": [
    "\n",
    "# Y by X\n",
    "SIZE = (1000, 1500)\n",
    "\n",
    "moist = np.random.rand(SIZE[0], SIZE[1])\n",
    "\n",
    "for i in range(SIZE[0]):\n",
    "    moist[i, :] = moist[i, :] * math.log10(i+1)\n",
    "\n",
    "# canvas RGB\n",
    "sky = np.zeros((SIZE[0], SIZE[1], 3))\n",
    "\n",
    "branches = []"
   ],
   "metadata": {
    "collapsed": false
   }
  },
  {
   "cell_type": "code",
   "execution_count": null,
   "outputs": [],
   "source": [
    "def rescale(arr):\n",
    "    arr_min = arr.min()\n",
    "    arr_max = arr.max()\n",
    "    return (arr - arr_min) / (arr_max - arr_min)\n",
    "\n",
    "\n",
    "def check_around(matrix, col, row):\n",
    "    poss = [(row, col - 1), (row, col + 1), (row - 1, col), (row + 1, col)]\n",
    "    pos_v = [i for i in poss if ((0 <= i[0] < SIZE[0]) and (0 <= i[1] < SIZE[1]))]\n",
    "    go = [(matrix[i], i) for i in pos_v]\n",
    "    return max(go, key=lambda x: x[0])\n",
    "\n",
    "\n",
    "def choose_point(cur_X, cur_Y, theta, length=1):\n",
    "    point_x = length*math.cos(theta) + cur_X\n",
    "    point_y = length*math.sin(theta) + cur_Y\n",
    "\n",
    "    return point_y, point_x\n",
    "\n",
    "\n",
    "def create_cloud(row, col, floor, canvas=sky, data=moist):\n",
    "    # set targets\n",
    "    while row < SIZE[0] - floor:\n",
    "        b, (row, col) = check_around(data, col, row)\n",
    "\n",
    "        canvas[row, col, 0] += 25  # R\n",
    "        canvas[row, col, 1] += 30  # G\n",
    "        canvas[row, col, 2] += 40  # B\n",
    "        data[row, col] = (data[row, col])*0.2\n",
    "\n",
    "    return canvas\n",
    "\n",
    "\n",
    "def create_lightning(row, col, color=(255, 255, 255), canvas=sky, floor=SIZE[0]):\n",
    "    counter = 0\n",
    "    length = randint(5, 25)\n",
    "    theta = uniform(0.1*math.pi, 0.9*math.pi)\n",
    "    # theta = math.pi/2\n",
    "    while row < SIZE[0] - 10:\n",
    "        counter += 1\n",
    "        if counter%length == 0:\n",
    "            theta = uniform(0*math.pi, 1*math.pi)\n",
    "            length = randint(5, 25)\n",
    "            if random() <= 0.05:\n",
    "                branches.append((row, col))\n",
    "\n",
    "        row, col = choose_point(col, row, theta)\n",
    "        rrow, rcol = round(row), round(col)\n",
    "\n",
    "        if 0 <= rrow < floor and 0 <= rcol < SIZE[1]:\n",
    "            canvas[rrow, rcol, 0] = color[0]\n",
    "            canvas[rrow, rcol, 1] = color[1]\n",
    "            canvas[rrow, rcol, 2] = color[2]\n",
    "        # print(row, col)\n",
    "    return canvas\n",
    "\n",
    "\n",
    "def fade_effect(matrix_info):\n",
    "    value, pos_y, pos_x = matrix_info\n",
    "    fade = np.fromfunction(lambda i, j, z: 1/(((i-pos_y+0.001)**2)+((j-pos_x+0.001)**2)), (SIZE[0], SIZE[1], 3), dtype='uint8')\n",
    "    return value*fade"
   ],
   "metadata": {
    "collapsed": false
   }
  },
  {
   "cell_type": "code",
   "execution_count": null,
   "outputs": [],
   "source": [
    "if __name__ == '__main__':\n",
    "    lightning_F = np.zeros((SIZE[0], SIZE[1], 3))\n",
    "    lightning = np.zeros((SIZE[0], SIZE[1], 3))\n",
    "    # set ground\n",
    "    ground = 800\n",
    "    moist[SIZE[0] - ground, :] = SIZE[0]\n",
    "    print(\"reached\")\n",
    "    for _ in tqdm(range(20), desc=\"Creating Clouds\"):\n",
    "        start_X = randint(0, SIZE[1])\n",
    "        sky = create_cloud(0, start_X, ground)\n",
    "\n",
    "    for _ in tqdm(range(5), desc=\"Creating Lightning Main\"):\n",
    "        start_X = randint(0, SIZE[1])\n",
    "        lightning = create_lightning(100, start_X)\n",
    "\n",
    "    for i in tqdm(range(len(branches)), desc=\"Creating Lightning Branches\"):\n",
    "        row, col = branches[i]\n",
    "        lightning = create_lightning(row, col, floor=row+randint(10, 200))\n",
    "\n",
    "    pbar = tqdm(total=np.count_nonzero(lightning >= 1)/3, desc=\"Getting Points for Processing\")\n",
    "    to_process = []\n",
    "    for (row, col, z), val in np.ndenumerate(lightning):\n",
    "        if val != 0 and z == 0:\n",
    "            to_process.append((val, row, col))\n",
    "            pbar.update(1)\n",
    "    pbar.close()\n",
    "    with multiprocessing.Pool(int(sys.argv[1])) as p:\n",
    "        lightning_F = sum(tqdm(p.imap(fade_effect, to_process), total=len(to_process), desc=\"Processing Points\"))\n",
    "\n",
    "    final = sky + lightning_F\n",
    "\n",
    "    final = 255*rescale(final)\n",
    "    img = Image.fromarray(final.astype('uint8'), 'RGB')\n",
    "    img.save('Light.png')\n",
    "\n"
   ],
   "metadata": {
    "collapsed": false
   }
  }
 ],
 "metadata": {
  "kernelspec": {
   "display_name": "Python 3",
   "language": "python",
   "name": "python3"
  },
  "language_info": {
   "codemirror_mode": {
    "name": "ipython",
    "version": 2
   },
   "file_extension": ".py",
   "mimetype": "text/x-python",
   "name": "python",
   "nbconvert_exporter": "python",
   "pygments_lexer": "ipython2",
   "version": "2.7.6"
  }
 },
 "nbformat": 4,
 "nbformat_minor": 0
}
